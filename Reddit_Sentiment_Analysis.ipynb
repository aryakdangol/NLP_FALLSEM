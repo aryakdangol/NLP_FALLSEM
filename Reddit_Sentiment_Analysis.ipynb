{
 "cells": [
  {
   "cell_type": "code",
   "execution_count": 49,
   "metadata": {},
   "outputs": [],
   "source": [
    "import pandas as pd\n",
    "import numpy as np\n",
    "import nltk\n",
    "from nltk.sentiment.vader import SentimentIntensityAnalyzer as SIA\n",
    "from pprint import pprint\n",
    "import praw"
   ]
  },
  {
   "cell_type": "code",
   "execution_count": 51,
   "metadata": {},
   "outputs": [],
   "source": [
    "reddit=praw.Reddit(client_id='Vuj-VpxhcJRzBg',\n",
    "                  client_secret='EtCSFClXSR-mULqW1_qWMAnKHww',\n",
    "                  user_agent='EtCSFClXSR-mULqW1_qWMAnKHww')"
   ]
  },
  {
   "cell_type": "code",
   "execution_count": 52,
   "metadata": {},
   "outputs": [
    {
     "name": "stdout",
     "output_type": "stream",
     "text": [
      "929\n"
     ]
    }
   ],
   "source": [
    "headlines=set()\n",
    "for sub in reddit.subreddit('politics').new(limit=None):\n",
    "    headlines.add(sub.title)\n",
    "print(len(headlines))"
   ]
  },
  {
   "cell_type": "code",
   "execution_count": 53,
   "metadata": {},
   "outputs": [
    {
     "data": {
      "text/html": [
       "<div>\n",
       "<style scoped>\n",
       "    .dataframe tbody tr th:only-of-type {\n",
       "        vertical-align: middle;\n",
       "    }\n",
       "\n",
       "    .dataframe tbody tr th {\n",
       "        vertical-align: top;\n",
       "    }\n",
       "\n",
       "    .dataframe thead th {\n",
       "        text-align: right;\n",
       "    }\n",
       "</style>\n",
       "<table border=\"1\" class=\"dataframe\">\n",
       "  <thead>\n",
       "    <tr style=\"text-align: right;\">\n",
       "      <th></th>\n",
       "      <th>neg</th>\n",
       "      <th>neu</th>\n",
       "      <th>pos</th>\n",
       "      <th>compound</th>\n",
       "      <th>headlines</th>\n",
       "    </tr>\n",
       "  </thead>\n",
       "  <tbody>\n",
       "    <tr>\n",
       "      <th>0</th>\n",
       "      <td>0.00</td>\n",
       "      <td>1.000</td>\n",
       "      <td>0.000</td>\n",
       "      <td>0.0000</td>\n",
       "      <td>How is presidential debate moderator Kristen W...</td>\n",
       "    </tr>\n",
       "    <tr>\n",
       "      <th>1</th>\n",
       "      <td>0.00</td>\n",
       "      <td>0.753</td>\n",
       "      <td>0.247</td>\n",
       "      <td>0.3182</td>\n",
       "      <td>NYPD says union's Trump endorsement won't affe...</td>\n",
       "    </tr>\n",
       "    <tr>\n",
       "      <th>2</th>\n",
       "      <td>0.20</td>\n",
       "      <td>0.800</td>\n",
       "      <td>0.000</td>\n",
       "      <td>-0.3612</td>\n",
       "      <td>Trump struggles to lift glass of water during ...</td>\n",
       "    </tr>\n",
       "    <tr>\n",
       "      <th>3</th>\n",
       "      <td>0.07</td>\n",
       "      <td>0.930</td>\n",
       "      <td>0.000</td>\n",
       "      <td>-0.3400</td>\n",
       "      <td>Trump may fire Bill Barr and FBI director for ...</td>\n",
       "    </tr>\n",
       "    <tr>\n",
       "      <th>4</th>\n",
       "      <td>0.00</td>\n",
       "      <td>0.752</td>\n",
       "      <td>0.248</td>\n",
       "      <td>0.3182</td>\n",
       "      <td>Top 3 Legal Questions About Rudy Giuliani’s ‘B...</td>\n",
       "    </tr>\n",
       "  </tbody>\n",
       "</table>\n",
       "</div>"
      ],
      "text/plain": [
       "    neg    neu    pos  compound  \\\n",
       "0  0.00  1.000  0.000    0.0000   \n",
       "1  0.00  0.753  0.247    0.3182   \n",
       "2  0.20  0.800  0.000   -0.3612   \n",
       "3  0.07  0.930  0.000   -0.3400   \n",
       "4  0.00  0.752  0.248    0.3182   \n",
       "\n",
       "                                           headlines  \n",
       "0  How is presidential debate moderator Kristen W...  \n",
       "1  NYPD says union's Trump endorsement won't affe...  \n",
       "2  Trump struggles to lift glass of water during ...  \n",
       "3  Trump may fire Bill Barr and FBI director for ...  \n",
       "4  Top 3 Legal Questions About Rudy Giuliani’s ‘B...  "
      ]
     },
     "execution_count": 53,
     "metadata": {},
     "output_type": "execute_result"
    }
   ],
   "source": [
    "sia = SIA()\n",
    "results=[]\n",
    "for line in headlines:\n",
    "    scores = sia.polarity_scores(line)\n",
    "    scores['headlines']=line\n",
    "    results.append(scores)\n",
    "df = pd.DataFrame.from_records(results)\n",
    "df.head()"
   ]
  },
  {
   "cell_type": "code",
   "execution_count": 54,
   "metadata": {},
   "outputs": [
    {
     "data": {
      "text/plain": [
       " 0.0000    366\n",
       "-0.4019     21\n",
       " 0.4019     20\n",
       " 0.3182     19\n",
       " 0.5574     19\n",
       "          ... \n",
       " 0.2716      1\n",
       "-0.7430      1\n",
       "-0.8720      1\n",
       " 0.2484      1\n",
       "-0.7269      1\n",
       "Name: compound, Length: 167, dtype: int64"
      ]
     },
     "execution_count": 54,
     "metadata": {},
     "output_type": "execute_result"
    }
   ],
   "source": [
    "df['compound'].value_counts()"
   ]
  },
  {
   "cell_type": "code",
   "execution_count": 55,
   "metadata": {},
   "outputs": [],
   "source": [
    "df['comp_score'] = df['compound'].apply(lambda score: 'pos' if score>0 else ('neu' if score==0 else 'neg'))"
   ]
  },
  {
   "cell_type": "code",
   "execution_count": 56,
   "metadata": {},
   "outputs": [
    {
     "data": {
      "text/plain": [
       "neu    366\n",
       "neg    324\n",
       "pos    239\n",
       "Name: comp_score, dtype: int64"
      ]
     },
     "execution_count": 56,
     "metadata": {},
     "output_type": "execute_result"
    }
   ],
   "source": [
    "df['comp_score'].value_counts()"
   ]
  },
  {
   "cell_type": "code",
   "execution_count": 57,
   "metadata": {},
   "outputs": [
    {
     "data": {
      "text/html": [
       "<div>\n",
       "<style scoped>\n",
       "    .dataframe tbody tr th:only-of-type {\n",
       "        vertical-align: middle;\n",
       "    }\n",
       "\n",
       "    .dataframe tbody tr th {\n",
       "        vertical-align: top;\n",
       "    }\n",
       "\n",
       "    .dataframe thead th {\n",
       "        text-align: right;\n",
       "    }\n",
       "</style>\n",
       "<table border=\"1\" class=\"dataframe\">\n",
       "  <thead>\n",
       "    <tr style=\"text-align: right;\">\n",
       "      <th></th>\n",
       "      <th>neg</th>\n",
       "      <th>neu</th>\n",
       "      <th>pos</th>\n",
       "      <th>compound</th>\n",
       "      <th>headlines</th>\n",
       "      <th>comp_score</th>\n",
       "    </tr>\n",
       "  </thead>\n",
       "  <tbody>\n",
       "    <tr>\n",
       "      <th>0</th>\n",
       "      <td>0.00</td>\n",
       "      <td>1.000</td>\n",
       "      <td>0.000</td>\n",
       "      <td>0.0000</td>\n",
       "      <td>How is presidential debate moderator Kristen W...</td>\n",
       "      <td>neu</td>\n",
       "    </tr>\n",
       "    <tr>\n",
       "      <th>1</th>\n",
       "      <td>0.00</td>\n",
       "      <td>0.753</td>\n",
       "      <td>0.247</td>\n",
       "      <td>0.3182</td>\n",
       "      <td>NYPD says union's Trump endorsement won't affe...</td>\n",
       "      <td>pos</td>\n",
       "    </tr>\n",
       "    <tr>\n",
       "      <th>2</th>\n",
       "      <td>0.20</td>\n",
       "      <td>0.800</td>\n",
       "      <td>0.000</td>\n",
       "      <td>-0.3612</td>\n",
       "      <td>Trump struggles to lift glass of water during ...</td>\n",
       "      <td>neg</td>\n",
       "    </tr>\n",
       "    <tr>\n",
       "      <th>3</th>\n",
       "      <td>0.07</td>\n",
       "      <td>0.930</td>\n",
       "      <td>0.000</td>\n",
       "      <td>-0.3400</td>\n",
       "      <td>Trump may fire Bill Barr and FBI director for ...</td>\n",
       "      <td>neg</td>\n",
       "    </tr>\n",
       "    <tr>\n",
       "      <th>4</th>\n",
       "      <td>0.00</td>\n",
       "      <td>0.752</td>\n",
       "      <td>0.248</td>\n",
       "      <td>0.3182</td>\n",
       "      <td>Top 3 Legal Questions About Rudy Giuliani’s ‘B...</td>\n",
       "      <td>pos</td>\n",
       "    </tr>\n",
       "  </tbody>\n",
       "</table>\n",
       "</div>"
      ],
      "text/plain": [
       "    neg    neu    pos  compound  \\\n",
       "0  0.00  1.000  0.000    0.0000   \n",
       "1  0.00  0.753  0.247    0.3182   \n",
       "2  0.20  0.800  0.000   -0.3612   \n",
       "3  0.07  0.930  0.000   -0.3400   \n",
       "4  0.00  0.752  0.248    0.3182   \n",
       "\n",
       "                                           headlines comp_score  \n",
       "0  How is presidential debate moderator Kristen W...        neu  \n",
       "1  NYPD says union's Trump endorsement won't affe...        pos  \n",
       "2  Trump struggles to lift glass of water during ...        neg  \n",
       "3  Trump may fire Bill Barr and FBI director for ...        neg  \n",
       "4  Top 3 Legal Questions About Rudy Giuliani’s ‘B...        pos  "
      ]
     },
     "execution_count": 57,
     "metadata": {},
     "output_type": "execute_result"
    }
   ],
   "source": [
    "df.head()"
   ]
  },
  {
   "cell_type": "code",
   "execution_count": 58,
   "metadata": {},
   "outputs": [
    {
     "data": {
      "text/plain": [
       "{'neg': 0.0, 'neu': 0.508, 'pos': 0.492, 'compound': 0.4404}"
      ]
     },
     "execution_count": 58,
     "metadata": {},
     "output_type": "execute_result"
    }
   ],
   "source": [
    "a = \"This is a good movie\"\n",
    "sia.polarity_scores(a)"
   ]
  },
  {
   "cell_type": "code",
   "execution_count": 59,
   "metadata": {},
   "outputs": [],
   "source": [
    "from sklearn.metrics import accuracy_score,classification_report,confusion_matrix"
   ]
  },
  {
   "cell_type": "code",
   "execution_count": 60,
   "metadata": {},
   "outputs": [
    {
     "data": {
      "text/html": [
       "<div>\n",
       "<style scoped>\n",
       "    .dataframe tbody tr th:only-of-type {\n",
       "        vertical-align: middle;\n",
       "    }\n",
       "\n",
       "    .dataframe tbody tr th {\n",
       "        vertical-align: top;\n",
       "    }\n",
       "\n",
       "    .dataframe thead th {\n",
       "        text-align: right;\n",
       "    }\n",
       "</style>\n",
       "<table border=\"1\" class=\"dataframe\">\n",
       "  <thead>\n",
       "    <tr style=\"text-align: right;\">\n",
       "      <th></th>\n",
       "      <th>neg</th>\n",
       "      <th>neu</th>\n",
       "      <th>pos</th>\n",
       "      <th>compound</th>\n",
       "      <th>headlines</th>\n",
       "      <th>comp_score</th>\n",
       "      <th>label</th>\n",
       "    </tr>\n",
       "  </thead>\n",
       "  <tbody>\n",
       "    <tr>\n",
       "      <th>0</th>\n",
       "      <td>0.00</td>\n",
       "      <td>1.000</td>\n",
       "      <td>0.000</td>\n",
       "      <td>0.0000</td>\n",
       "      <td>How is presidential debate moderator Kristen W...</td>\n",
       "      <td>neu</td>\n",
       "      <td>0</td>\n",
       "    </tr>\n",
       "    <tr>\n",
       "      <th>1</th>\n",
       "      <td>0.00</td>\n",
       "      <td>0.753</td>\n",
       "      <td>0.247</td>\n",
       "      <td>0.3182</td>\n",
       "      <td>NYPD says union's Trump endorsement won't affe...</td>\n",
       "      <td>pos</td>\n",
       "      <td>1</td>\n",
       "    </tr>\n",
       "    <tr>\n",
       "      <th>2</th>\n",
       "      <td>0.20</td>\n",
       "      <td>0.800</td>\n",
       "      <td>0.000</td>\n",
       "      <td>-0.3612</td>\n",
       "      <td>Trump struggles to lift glass of water during ...</td>\n",
       "      <td>neg</td>\n",
       "      <td>-1</td>\n",
       "    </tr>\n",
       "    <tr>\n",
       "      <th>3</th>\n",
       "      <td>0.07</td>\n",
       "      <td>0.930</td>\n",
       "      <td>0.000</td>\n",
       "      <td>-0.3400</td>\n",
       "      <td>Trump may fire Bill Barr and FBI director for ...</td>\n",
       "      <td>neg</td>\n",
       "      <td>-1</td>\n",
       "    </tr>\n",
       "    <tr>\n",
       "      <th>4</th>\n",
       "      <td>0.00</td>\n",
       "      <td>0.752</td>\n",
       "      <td>0.248</td>\n",
       "      <td>0.3182</td>\n",
       "      <td>Top 3 Legal Questions About Rudy Giuliani’s ‘B...</td>\n",
       "      <td>pos</td>\n",
       "      <td>1</td>\n",
       "    </tr>\n",
       "  </tbody>\n",
       "</table>\n",
       "</div>"
      ],
      "text/plain": [
       "    neg    neu    pos  compound  \\\n",
       "0  0.00  1.000  0.000    0.0000   \n",
       "1  0.00  0.753  0.247    0.3182   \n",
       "2  0.20  0.800  0.000   -0.3612   \n",
       "3  0.07  0.930  0.000   -0.3400   \n",
       "4  0.00  0.752  0.248    0.3182   \n",
       "\n",
       "                                           headlines comp_score  label  \n",
       "0  How is presidential debate moderator Kristen W...        neu      0  \n",
       "1  NYPD says union's Trump endorsement won't affe...        pos      1  \n",
       "2  Trump struggles to lift glass of water during ...        neg     -1  \n",
       "3  Trump may fire Bill Barr and FBI director for ...        neg     -1  \n",
       "4  Top 3 Legal Questions About Rudy Giuliani’s ‘B...        pos      1  "
      ]
     },
     "execution_count": 60,
     "metadata": {},
     "output_type": "execute_result"
    }
   ],
   "source": [
    "df['label']=0\n",
    "df.loc[df['compound']>0.1,'label']=1\n",
    "df.loc[df['compound']<-0.1,'label']= -1\n",
    "df.head()"
   ]
  },
  {
   "cell_type": "code",
   "execution_count": 61,
   "metadata": {},
   "outputs": [
    {
     "name": "stdout",
     "output_type": "stream",
     "text": [
      "Positive headlines:\n",
      "\n",
      "[\"NYPD says union's Trump endorsement won't affect enforcement\",\n",
      " 'Top 3 Legal Questions About Rudy Giuliani’s ‘Beyond Cringe’ Scene in ‘Borat,’ Answered',\n",
      " 'Trump’s tax returns: Why the Supreme Court should end things now',\n",
      " 'Federal Judges Claim It’s Unconstitutional for States to Protect Voting Rights | The federal '\n",
      " 'judiciary is on the brink of mandating voter suppression—even in states that don’t want it.',\n",
      " \"No need to feel down: Trump's 'YMCA' rally dancing is campaign bright spot\",\n",
      " 'Powerful video of Biden comforting son of school shooting victim resurfaces',\n",
      " 'How anti-vaxxers have rebranded in the coronavirus era: ‘Our bodies are ours, not for someone '\n",
      " \"else to govern' | Vaccine opponents have long been undergoing a rebranding effort to shift their \"\n",
      " 'messaging toward the promotion of civil liberties',\n",
      " 'McConnell helps ‘working families’ by killing coronavirus relief. That’s rich, Mitch.',\n",
      " 'McConnell says nothing wrong with health after photos show bruises on hands',\n",
      " '‘I Hope They End It’: Trump Urges Supreme Court To Kill Obamacare During Pandemic']\n",
      "\n",
      "Negative headlines:\n",
      "\n",
      "['Trump struggles to lift glass of water during ‘60 Minutes’ interview',\n",
      " 'Trump may fire Bill Barr and FBI director for not aiding his campaign by investigating Biden: '\n",
      " 'report. Trump allegedly wants a James Comey-like announcement of an investigation into Biden '\n",
      " 'days ahead of the election',\n",
      " \"Portland, Seattle, New York sue over Trump's 'anarchy' label, threat to defund cities\",\n",
      " \"Supporters Of Using Antitrust Against Big Tech Should Be Very Disappointed In How Weak The DOJ's \"\n",
      " 'Case Is',\n",
      " \"Hunter Biden, Rudy Giuliani and the 'hard drive from hell'\",\n",
      " 'Trump Supporter Arrested For Requesting Absentee Ballot For Dead Mother',\n",
      " 'Mary Trump: Psychiatrists know what’s wrong with my uncle. Let them tell voters.',\n",
      " 'Faulty US Covid-19 response meant 130,000 to 210,000 avoidable deaths, report finds',\n",
      " 'An angry Azar floats plans to oust FDA’s Hahn',\n",
      " 'Spencer should resign from Suffolk legislature']\n"
     ]
    }
   ],
   "source": [
    "print(\"Positive headlines:\\n\")\n",
    "pprint(list(df[df['label']==1].headlines)[:10],width=100)\n",
    "\n",
    "print(\"\\nNegative headlines:\\n\")\n",
    "pprint(list(df[df['label']==-1].headlines)[:10],width=100)"
   ]
  },
  {
   "cell_type": "code",
   "execution_count": null,
   "metadata": {},
   "outputs": [],
   "source": []
  }
 ],
 "metadata": {
  "kernelspec": {
   "display_name": "Python 3",
   "language": "python",
   "name": "python3"
  },
  "language_info": {
   "codemirror_mode": {
    "name": "ipython",
    "version": 3
   },
   "file_extension": ".py",
   "mimetype": "text/x-python",
   "name": "python",
   "nbconvert_exporter": "python",
   "pygments_lexer": "ipython3",
   "version": "3.7.6"
  }
 },
 "nbformat": 4,
 "nbformat_minor": 4
}
