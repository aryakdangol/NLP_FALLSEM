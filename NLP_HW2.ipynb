{
 "cells": [
  {
   "cell_type": "code",
   "execution_count": 62,
   "metadata": {
    "colab": {},
    "colab_type": "code",
    "id": "XAvoEXqWW3jw"
   },
   "outputs": [],
   "source": [
    "from nltk import word_tokenize\n",
    "from nltk.stem import LancasterStemmer\n",
    "from sklearn.metrics.pairwise import cosine_similarity\n",
    "from sklearn.feature_extraction.text import CountVectorizer"
   ]
  },
  {
   "cell_type": "code",
   "execution_count": 63,
   "metadata": {
    "colab": {},
    "colab_type": "code",
    "id": "O3Z7vGBrXGjD"
   },
   "outputs": [],
   "source": [
    "doc1='''The Great Work (Latin: Magnum opus) is an alchemical term for the process \n",
    "of working with the prima materia to create the philosopher's stone. \n",
    "It has been used to describe personal and spiritual transmutation in the Hermetic tradition, \n",
    "attached to laboratory processes and chemical color changes, used as a model for the individuation process, \n",
    "and as a device in art and literature. The magnum opus has been carried forward in New Age and \n",
    "neo-Hermetic movements which sometimes attached new symbolism and significance to the processes.'''"
   ]
  },
  {
   "cell_type": "code",
   "execution_count": 64,
   "metadata": {
    "colab": {},
    "colab_type": "code",
    "id": "8Pdtq-obXMhx"
   },
   "outputs": [],
   "source": [
    "doc2='''The term Great Work (magnum opus) is a term used in Hermeticism and \n",
    "occult traditions descended from it, most prominently Thelema. \n",
    "The Great Work signifies the spiritual path towards self-transcendence in its entirety. \n",
    "This is the process of bringing unconscious complexes into the conscious awareness, \n",
    "in order to integrate them back into oneself. Accomplishing the Great Work, \n",
    "symbolized as the creation of the Philosopher's Stone, represents the culmination of the \n",
    "spiritual path, the attainment of enlightenment, or the rescue of the \n",
    "human soul from the unconscious forces which bind it.'''"
   ]
  },
  {
   "cell_type": "code",
   "execution_count": 65,
   "metadata": {
    "colab": {},
    "colab_type": "code",
    "id": "miWvDjcRY1RS"
   },
   "outputs": [],
   "source": [
    "ls=LancasterStemmer()"
   ]
  },
  {
   "cell_type": "code",
   "execution_count": 66,
   "metadata": {
    "colab": {
     "base_uri": "https://localhost:8080/",
     "height": 69
    },
    "colab_type": "code",
    "id": "YRoVb_IgYtDR",
    "outputId": "b7edc779-d61f-429a-82d7-d7eaa3e45e65"
   },
   "outputs": [
    {
     "name": "stdout",
     "output_type": "stream",
     "text": [
      "the gre work ( latin : magn op ) is an alchem term for the process of work with the prim mater to cre the philosoph 's ston . it has been us to describ person and spirit transmut in the hermet tradit , attach to lab process and chem col chang , us as a model for the individu process , and as a dev in art and lit . the magn op has been carry forward in new ag and neo-hermetic mov which sometim attach new symbol and sign to the process .\n"
     ]
    }
   ],
   "source": [
    "token1 = word_tokenize(doc1)\n",
    "s1 = []\n",
    "for word in token1:\n",
    "    word = word.lower()\n",
    "    stem = ls.stem(word)\n",
    "    s1.append(stem)\n",
    "s1 = \" \".join(s1)\n",
    "print(s1)"
   ]
  },
  {
   "cell_type": "code",
   "execution_count": 67,
   "metadata": {
    "colab": {
     "base_uri": "https://localhost:8080/",
     "height": 69
    },
    "colab_type": "code",
    "id": "N8XSegr5angw",
    "outputId": "0960be13-a2a0-4057-8563-b89d9e38476c"
   },
   "outputs": [
    {
     "name": "stdout",
     "output_type": "stream",
     "text": [
      "the gre work ( latin : magn op ) is an alchem term for the process of work with the prim mater to cre the philosoph 's ston . it has been us to describ person and spirit transmut in the hermet tradit , attach to lab process and chem col chang , us as a model for the individu process , and as a dev in art and lit . the magn op has been carry forward in new ag and neo-hermetic mov which sometim attach new symbol and sign to the process .\n"
     ]
    }
   ],
   "source": [
    "token2 = word_tokenize(doc2)\n",
    "s2 = []\n",
    "for word in token1:\n",
    "    word = word.lower()\n",
    "    stem = ls.stem(word)\n",
    "    s2.append(stem)\n",
    "s2 = \" \".join(s2)\n",
    "print(s2)"
   ]
  },
  {
   "cell_type": "code",
   "execution_count": 68,
   "metadata": {
    "colab": {},
    "colab_type": "code",
    "id": "t1_iDeJobOyO"
   },
   "outputs": [
    {
     "data": {
      "text/plain": [
       "[\"the gre work ( latin : magn op ) is an alchem term for the process of work with the prim mater to cre the philosoph 's ston . it has been us to describ person and spirit transmut in the hermet tradit , attach to lab process and chem col chang , us as a model for the individu process , and as a dev in art and lit . the magn op has been carry forward in new ag and neo-hermetic mov which sometim attach new symbol and sign to the process .the gre work ( latin : magn op ) is an alchem term for the process of work with the prim mater to cre the philosoph 's ston . it has been us to describ person and spirit transmut in the hermet tradit , attach to lab process and chem col chang , us as a model for the individu process , and as a dev in art and lit . the magn op has been carry forward in new ag and neo-hermetic mov which sometim attach new symbol and sign to the process .\"]"
      ]
     },
     "execution_count": 68,
     "metadata": {},
     "output_type": "execute_result"
    }
   ],
   "source": [
    "vect=CountVectorizer(binary=True)\n",
    "corpus1 = [s1 + s2]\n",
    "corpus1"
   ]
  },
  {
   "cell_type": "code",
   "execution_count": 69,
   "metadata": {
    "colab": {
     "base_uri": "https://localhost:8080/",
     "height": 118
    },
    "colab_type": "code",
    "id": "iOnvkRfnbuPr",
    "outputId": "0f83df00-608b-4016-e68b-fc4b42db9c1b"
   },
   "outputs": [
    {
     "data": {
      "text/plain": [
       "CountVectorizer(analyzer='word', binary=True, decode_error='strict',\n",
       "                dtype=<class 'numpy.int64'>, encoding='utf-8', input='content',\n",
       "                lowercase=True, max_df=1.0, max_features=None, min_df=1,\n",
       "                ngram_range=(1, 1), preprocessor=None, stop_words=None,\n",
       "                strip_accents=None, token_pattern='(?u)\\\\b\\\\w\\\\w+\\\\b',\n",
       "                tokenizer=None, vocabulary=None)"
      ]
     },
     "execution_count": 69,
     "metadata": {},
     "output_type": "execute_result"
    }
   ],
   "source": [
    "vect.fit(corpus1)"
   ]
  },
  {
   "cell_type": "code",
   "execution_count": 70,
   "metadata": {
    "colab": {
     "base_uri": "https://localhost:8080/",
     "height": 34
    },
    "colab_type": "code",
    "id": "WTLXpzdtb22c",
    "outputId": "6dea1099-d7b1-4802-9fa5-01c988cb9ecf"
   },
   "outputs": [
    {
     "data": {
      "text/plain": [
       "54"
      ]
     },
     "execution_count": 70,
     "metadata": {},
     "output_type": "execute_result"
    }
   ],
   "source": [
    "vocab=vect.vocabulary_\n",
    "len(vocab)"
   ]
  },
  {
   "cell_type": "code",
   "execution_count": 71,
   "metadata": {
    "colab": {
     "base_uri": "https://localhost:8080/",
     "height": 34
    },
    "colab_type": "code",
    "id": "daANuI71dBUl",
    "outputId": "c0261792-9d17-4f6f-8db7-e556223e6322"
   },
   "outputs": [
    {
     "data": {
      "text/plain": [
       "array([[1.]])"
      ]
     },
     "execution_count": 71,
     "metadata": {},
     "output_type": "execute_result"
    }
   ],
   "source": [
    "similarity1 = cosine_similarity(vect.transform([s1]).toarray(), vect.transform([s2]).toarray())\n",
    "similarity1"
   ]
  },
  {
   "cell_type": "code",
   "execution_count": 72,
   "metadata": {
    "colab": {},
    "colab_type": "code",
    "id": "DD_B_faBeciU"
   },
   "outputs": [],
   "source": [
    "vect=CountVectorizer(binary=True)"
   ]
  },
  {
   "cell_type": "code",
   "execution_count": 73,
   "metadata": {
    "colab": {},
    "colab_type": "code",
    "id": "pgLiQq7becii"
   },
   "outputs": [
    {
     "data": {
      "text/plain": [
       "[\"The Great Work (Latin: Magnum opus) is an alchemical term for the process \\nof working with the prima materia to create the philosopher's stone. \\nIt has been used to describe personal and spiritual transmutation in the Hermetic tradition, \\nattached to laboratory processes and chemical color changes, used as a model for the individuation process, \\nand as a device in art and literature. The magnum opus has been carried forward in New Age and \\nneo-Hermetic movements which sometimes attached new symbolism and significance to the processes.The term Great Work (magnum opus) is a term used in Hermeticism and \\noccult traditions descended from it, most prominently Thelema. \\nThe Great Work signifies the spiritual path towards self-transcendence in its entirety. \\nThis is the process of bringing unconscious complexes into the conscious awareness, \\nin order to integrate them back into oneself. Accomplishing the Great Work, \\nsymbolized as the creation of the Philosopher's Stone, represents the culmination of the \\nspiritual path, the attainment of enlightenment, or the rescue of the \\nhuman soul from the unconscious forces which bind it.\"]"
      ]
     },
     "execution_count": 73,
     "metadata": {},
     "output_type": "execute_result"
    }
   ],
   "source": [
    "corpus2 = [doc1 + doc2]\n",
    "corpus2"
   ]
  },
  {
   "cell_type": "code",
   "execution_count": 74,
   "metadata": {
    "colab": {
     "base_uri": "https://localhost:8080/",
     "height": 118
    },
    "colab_type": "code",
    "id": "fOqKQdCFecit",
    "outputId": "a7349d9d-6a64-47d1-8ddb-1cdfa0b39615"
   },
   "outputs": [
    {
     "data": {
      "text/plain": [
       "CountVectorizer(analyzer='word', binary=True, decode_error='strict',\n",
       "                dtype=<class 'numpy.int64'>, encoding='utf-8', input='content',\n",
       "                lowercase=True, max_df=1.0, max_features=None, min_df=1,\n",
       "                ngram_range=(1, 1), preprocessor=None, stop_words=None,\n",
       "                strip_accents=None, token_pattern='(?u)\\\\b\\\\w\\\\w+\\\\b',\n",
       "                tokenizer=None, vocabulary=None)"
      ]
     },
     "execution_count": 74,
     "metadata": {},
     "output_type": "execute_result"
    }
   ],
   "source": [
    "vect.fit(corpus2)"
   ]
  },
  {
   "cell_type": "code",
   "execution_count": 75,
   "metadata": {
    "colab": {
     "base_uri": "https://localhost:8080/",
     "height": 34
    },
    "colab_type": "code",
    "id": "I_z44me9eci4",
    "outputId": "f4269590-7383-4ed7-9abf-462dc8efd626"
   },
   "outputs": [
    {
     "data": {
      "text/plain": [
       "95"
      ]
     },
     "execution_count": 75,
     "metadata": {},
     "output_type": "execute_result"
    }
   ],
   "source": [
    "vocab=vect.vocabulary_\n",
    "len(vocab)"
   ]
  },
  {
   "cell_type": "code",
   "execution_count": 76,
   "metadata": {
    "colab": {
     "base_uri": "https://localhost:8080/",
     "height": 34
    },
    "colab_type": "code",
    "id": "WUxokmmNecjB",
    "outputId": "ae93f1b9-f904-4844-ebbd-319010c3085b"
   },
   "outputs": [
    {
     "data": {
      "text/plain": [
       "array([[0.33353871]])"
      ]
     },
     "execution_count": 76,
     "metadata": {},
     "output_type": "execute_result"
    }
   ],
   "source": [
    "similarity2 = cosine_similarity(vect.transform([doc1]).toarray(), vect.transform([doc2]).toarray())\n",
    "similarity"
   ]
  },
  {
   "cell_type": "code",
   "execution_count": null,
   "metadata": {},
   "outputs": [],
   "source": []
  }
 ],
 "metadata": {
  "colab": {
   "authorship_tag": "ABX9TyM8omz4v5KnEuDWvgCqh1rK",
   "collapsed_sections": [],
   "include_colab_link": true,
   "name": "Magnum Opus.ipynb",
   "provenance": []
  },
  "kernelspec": {
   "display_name": "Python 3",
   "language": "python",
   "name": "python3"
  },
  "language_info": {
   "codemirror_mode": {
    "name": "ipython",
    "version": 3
   },
   "file_extension": ".py",
   "mimetype": "text/x-python",
   "name": "python",
   "nbconvert_exporter": "python",
   "pygments_lexer": "ipython3",
   "version": "3.7.6"
  }
 },
 "nbformat": 4,
 "nbformat_minor": 1
}
